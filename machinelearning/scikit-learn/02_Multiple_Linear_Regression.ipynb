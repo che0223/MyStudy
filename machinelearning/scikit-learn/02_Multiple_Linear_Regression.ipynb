{
  "nbformat": 4,
  "nbformat_minor": 0,
  "metadata": {
    "colab": {
      "provenance": [],
      "toc_visible": true
    },
    "kernelspec": {
      "name": "python3",
      "display_name": "Python 3"
    },
    "language_info": {
      "name": "python"
    }
  },
  "cells": [
    {
      "cell_type": "markdown",
      "source": [
        "# 다중 선형 회귀(Multiple Linear Regression) : y = m1x1 + m2x2 + m3x3 ... + b\n",
        "원핫 인코딩 : 회귀 모델은 연속형 데이터만 처리, 분류형 데이터의 경우 수정이 필요한데 사용할 수 있는 방법이 원핫 인코딩 => 더미컬럼\n",
        "\n",
        "다중 공선성 : 독립 변수들 간에 서로 강한 상관관계를 가지면서 회귀계수 추정의 오류가 나타나는 문제(하나의 피처가 다른 피처에 영향을 끼침)\n",
        "=> 어느정도의 상관관계는 괜찮지만 높은 상관관계의 경우 처리를 해줘야함\n",
        "=> 원핫 인코딩의 경우 하나의 컬럼을 없애는 방법이 있음\n",
        "원래의 원핫 인코딩은 D1 + D2 + D3 = 1(세 개의 컬럼중 어쨋든 다 더하면 1이 나오게 되어있음)이므로 D3 = 1 - (D1 + D2) 라는 강한 상관관계 -> 하나의 컬럼을 없앰으로써 이 식을 무너뜨림\n",
        "-> Dummy variable trap"
      ],
      "metadata": {
        "id": "t515-P24HH5v"
      }
    },
    {
      "cell_type": "markdown",
      "source": [
        "### 원 핫 인코딩"
      ],
      "metadata": {
        "id": "zzHZ81b2HUIV"
      }
    },
    {
      "cell_type": "code",
      "source": [
        "import pandas as pd"
      ],
      "metadata": {
        "id": "l9kclnL6HWj3"
      },
      "execution_count": 1,
      "outputs": []
    },
    {
      "cell_type": "code",
      "source": [
        "dataset = pd.read_csv('./MultipleLinearRegressionData.csv')"
      ],
      "metadata": {
        "id": "59pI9lNjHjgd"
      },
      "execution_count": 2,
      "outputs": []
    },
    {
      "cell_type": "code",
      "source": [
        "X = dataset.iloc[:, :-1].values\n",
        "y = dataset.iloc[:, -1].values\n",
        "X"
      ],
      "metadata": {
        "colab": {
          "base_uri": "https://localhost:8080/"
        },
        "id": "KXlkAH5bHoFt",
        "outputId": "70adefb1-d0f5-481f-8408-3d928dd27293"
      },
      "execution_count": 6,
      "outputs": [
        {
          "output_type": "execute_result",
          "data": {
            "text/plain": [
              "array([[0.5, 3, 'Home'],\n",
              "       [1.2, 4, 'Library'],\n",
              "       [1.8, 2, 'Cafe'],\n",
              "       [2.4, 0, 'Cafe'],\n",
              "       [2.6, 2, 'Home'],\n",
              "       [3.2, 0, 'Home'],\n",
              "       [3.9, 0, 'Library'],\n",
              "       [4.4, 0, 'Library'],\n",
              "       [4.5, 5, 'Home'],\n",
              "       [5.0, 1, 'Cafe'],\n",
              "       [5.3, 2, 'Cafe'],\n",
              "       [5.8, 0, 'Cafe'],\n",
              "       [6.0, 3, 'Library'],\n",
              "       [6.1, 1, 'Cafe'],\n",
              "       [6.2, 1, 'Library'],\n",
              "       [6.9, 4, 'Home'],\n",
              "       [7.2, 2, 'Cafe'],\n",
              "       [8.4, 1, 'Home'],\n",
              "       [8.6, 1, 'Library'],\n",
              "       [10.0, 0, 'Library']], dtype=object)"
            ]
          },
          "metadata": {},
          "execution_count": 6
        }
      ]
    },
    {
      "cell_type": "code",
      "source": [
        "from sklearn.compose import ColumnTransformer\n",
        "from sklearn.preprocessing import OneHotEncoder\n",
        "\n",
        "ct = ColumnTransformer(transformers=[('encoder', OneHotEncoder(drop='first'), [2])], remainder = 'passthrough')\n",
        "X = ct.fit_transform(X)\n",
        "X\n",
        "\n",
        "# 1 0 : Home\n",
        "# 0 1 : Library\n",
        "# 0 0 : Cafe"
      ],
      "metadata": {
        "colab": {
          "base_uri": "https://localhost:8080/"
        },
        "id": "PnOmivqmHoDN",
        "outputId": "f3e8aeca-e3d2-4671-aa3f-26c835e7d75b"
      },
      "execution_count": 7,
      "outputs": [
        {
          "output_type": "execute_result",
          "data": {
            "text/plain": [
              "array([[1.0, 0.0, 0.5, 3],\n",
              "       [0.0, 1.0, 1.2, 4],\n",
              "       [0.0, 0.0, 1.8, 2],\n",
              "       [0.0, 0.0, 2.4, 0],\n",
              "       [1.0, 0.0, 2.6, 2],\n",
              "       [1.0, 0.0, 3.2, 0],\n",
              "       [0.0, 1.0, 3.9, 0],\n",
              "       [0.0, 1.0, 4.4, 0],\n",
              "       [1.0, 0.0, 4.5, 5],\n",
              "       [0.0, 0.0, 5.0, 1],\n",
              "       [0.0, 0.0, 5.3, 2],\n",
              "       [0.0, 0.0, 5.8, 0],\n",
              "       [0.0, 1.0, 6.0, 3],\n",
              "       [0.0, 0.0, 6.1, 1],\n",
              "       [0.0, 1.0, 6.2, 1],\n",
              "       [1.0, 0.0, 6.9, 4],\n",
              "       [0.0, 0.0, 7.2, 2],\n",
              "       [1.0, 0.0, 8.4, 1],\n",
              "       [0.0, 1.0, 8.6, 1],\n",
              "       [0.0, 1.0, 10.0, 0]], dtype=object)"
            ]
          },
          "metadata": {},
          "execution_count": 7
        }
      ]
    },
    {
      "cell_type": "markdown",
      "source": [
        "### 데이터 세트 분리"
      ],
      "metadata": {
        "id": "HB_78QsEHoA9"
      }
    },
    {
      "cell_type": "code",
      "source": [
        "from sklearn.model_selection import train_test_split\n",
        "\n",
        "X_train, X_test, y_train, y_test = train_test_split(X, y, test_size = 0.2) # 20%의 테스트 세트"
      ],
      "metadata": {
        "id": "ViFyV-kZHn3l"
      },
      "execution_count": 8,
      "outputs": []
    },
    {
      "cell_type": "markdown",
      "source": [
        "### 학습 (다중 선형 회귀)"
      ],
      "metadata": {
        "id": "sGyhKJw6Hn1N"
      }
    },
    {
      "cell_type": "code",
      "source": [
        "from sklearn.linear_model import LinearRegression\n",
        "reg = LinearRegression()\n",
        "reg.fit(X_train, y_train)"
      ],
      "metadata": {
        "colab": {
          "base_uri": "https://localhost:8080/",
          "height": 75
        },
        "id": "b2Gg04DNIp5m",
        "outputId": "b2a59f46-2a23-4f85-eefb-c1db5f69aa1c"
      },
      "execution_count": 9,
      "outputs": [
        {
          "output_type": "execute_result",
          "data": {
            "text/plain": [
              "LinearRegression()"
            ],
            "text/html": [
              "<style>#sk-container-id-1 {color: black;background-color: white;}#sk-container-id-1 pre{padding: 0;}#sk-container-id-1 div.sk-toggleable {background-color: white;}#sk-container-id-1 label.sk-toggleable__label {cursor: pointer;display: block;width: 100%;margin-bottom: 0;padding: 0.3em;box-sizing: border-box;text-align: center;}#sk-container-id-1 label.sk-toggleable__label-arrow:before {content: \"▸\";float: left;margin-right: 0.25em;color: #696969;}#sk-container-id-1 label.sk-toggleable__label-arrow:hover:before {color: black;}#sk-container-id-1 div.sk-estimator:hover label.sk-toggleable__label-arrow:before {color: black;}#sk-container-id-1 div.sk-toggleable__content {max-height: 0;max-width: 0;overflow: hidden;text-align: left;background-color: #f0f8ff;}#sk-container-id-1 div.sk-toggleable__content pre {margin: 0.2em;color: black;border-radius: 0.25em;background-color: #f0f8ff;}#sk-container-id-1 input.sk-toggleable__control:checked~div.sk-toggleable__content {max-height: 200px;max-width: 100%;overflow: auto;}#sk-container-id-1 input.sk-toggleable__control:checked~label.sk-toggleable__label-arrow:before {content: \"▾\";}#sk-container-id-1 div.sk-estimator input.sk-toggleable__control:checked~label.sk-toggleable__label {background-color: #d4ebff;}#sk-container-id-1 div.sk-label input.sk-toggleable__control:checked~label.sk-toggleable__label {background-color: #d4ebff;}#sk-container-id-1 input.sk-hidden--visually {border: 0;clip: rect(1px 1px 1px 1px);clip: rect(1px, 1px, 1px, 1px);height: 1px;margin: -1px;overflow: hidden;padding: 0;position: absolute;width: 1px;}#sk-container-id-1 div.sk-estimator {font-family: monospace;background-color: #f0f8ff;border: 1px dotted black;border-radius: 0.25em;box-sizing: border-box;margin-bottom: 0.5em;}#sk-container-id-1 div.sk-estimator:hover {background-color: #d4ebff;}#sk-container-id-1 div.sk-parallel-item::after {content: \"\";width: 100%;border-bottom: 1px solid gray;flex-grow: 1;}#sk-container-id-1 div.sk-label:hover label.sk-toggleable__label {background-color: #d4ebff;}#sk-container-id-1 div.sk-serial::before {content: \"\";position: absolute;border-left: 1px solid gray;box-sizing: border-box;top: 0;bottom: 0;left: 50%;z-index: 0;}#sk-container-id-1 div.sk-serial {display: flex;flex-direction: column;align-items: center;background-color: white;padding-right: 0.2em;padding-left: 0.2em;position: relative;}#sk-container-id-1 div.sk-item {position: relative;z-index: 1;}#sk-container-id-1 div.sk-parallel {display: flex;align-items: stretch;justify-content: center;background-color: white;position: relative;}#sk-container-id-1 div.sk-item::before, #sk-container-id-1 div.sk-parallel-item::before {content: \"\";position: absolute;border-left: 1px solid gray;box-sizing: border-box;top: 0;bottom: 0;left: 50%;z-index: -1;}#sk-container-id-1 div.sk-parallel-item {display: flex;flex-direction: column;z-index: 1;position: relative;background-color: white;}#sk-container-id-1 div.sk-parallel-item:first-child::after {align-self: flex-end;width: 50%;}#sk-container-id-1 div.sk-parallel-item:last-child::after {align-self: flex-start;width: 50%;}#sk-container-id-1 div.sk-parallel-item:only-child::after {width: 0;}#sk-container-id-1 div.sk-dashed-wrapped {border: 1px dashed gray;margin: 0 0.4em 0.5em 0.4em;box-sizing: border-box;padding-bottom: 0.4em;background-color: white;}#sk-container-id-1 div.sk-label label {font-family: monospace;font-weight: bold;display: inline-block;line-height: 1.2em;}#sk-container-id-1 div.sk-label-container {text-align: center;}#sk-container-id-1 div.sk-container {/* jupyter's `normalize.less` sets `[hidden] { display: none; }` but bootstrap.min.css set `[hidden] { display: none !important; }` so we also need the `!important` here to be able to override the default hidden behavior on the sphinx rendered scikit-learn.org. See: https://github.com/scikit-learn/scikit-learn/issues/21755 */display: inline-block !important;position: relative;}#sk-container-id-1 div.sk-text-repr-fallback {display: none;}</style><div id=\"sk-container-id-1\" class=\"sk-top-container\"><div class=\"sk-text-repr-fallback\"><pre>LinearRegression()</pre><b>In a Jupyter environment, please rerun this cell to show the HTML representation or trust the notebook. <br />On GitHub, the HTML representation is unable to render, please try loading this page with nbviewer.org.</b></div><div class=\"sk-container\" hidden><div class=\"sk-item\"><div class=\"sk-estimator sk-toggleable\"><input class=\"sk-toggleable__control sk-hidden--visually\" id=\"sk-estimator-id-1\" type=\"checkbox\" checked><label for=\"sk-estimator-id-1\" class=\"sk-toggleable__label sk-toggleable__label-arrow\">LinearRegression</label><div class=\"sk-toggleable__content\"><pre>LinearRegression()</pre></div></div></div></div></div>"
            ]
          },
          "metadata": {},
          "execution_count": 9
        }
      ]
    },
    {
      "cell_type": "markdown",
      "source": [
        "### 예측 값과 실제 값 비교 (테스트 세트)"
      ],
      "metadata": {
        "id": "nOKYSv1wIu2t"
      }
    },
    {
      "cell_type": "code",
      "source": [
        "y_pred = reg.predict(X_test)\n",
        "y_pred, y_test"
      ],
      "metadata": {
        "colab": {
          "base_uri": "https://localhost:8080/"
        },
        "id": "AZS0exh9Iz1d",
        "outputId": "eb3cedba-9538-4d09-a56d-7eb5ec42028a"
      },
      "execution_count": 10,
      "outputs": [
        {
          "output_type": "execute_result",
          "data": {
            "text/plain": [
              "(array([48.67357773, 89.53350441, 55.28261687, 75.91305223]),\n",
              " array([48, 90, 58, 76]))"
            ]
          },
          "metadata": {},
          "execution_count": 10
        }
      ]
    },
    {
      "cell_type": "code",
      "source": [
        "reg.coef_ # 독립 변수 4개 집 공부와 도서관 공부는 점수에 좋지 않은 영향, 공부 시간은 점수에 긍정적인 영향, 결석횟수는 점수에 부정적인 역할"
      ],
      "metadata": {
        "colab": {
          "base_uri": "https://localhost:8080/"
        },
        "id": "lvlBLptZI3WV",
        "outputId": "416b825d-e285-4f4b-8259-3bc533a6e5f8"
      },
      "execution_count": 12,
      "outputs": [
        {
          "output_type": "execute_result",
          "data": {
            "text/plain": [
              "array([-5.60835791, -2.16219683, 10.11474566, -1.62200508])"
            ]
          },
          "metadata": {},
          "execution_count": 12
        }
      ]
    },
    {
      "cell_type": "code",
      "source": [
        "reg.intercept_"
      ],
      "metadata": {
        "colab": {
          "base_uri": "https://localhost:8080/"
        },
        "id": "lEBkK3ODI6Vd",
        "outputId": "0461f3b7-ab6c-4ee3-9e1b-713ad3b821f7"
      },
      "execution_count": 13,
      "outputs": [
        {
          "output_type": "execute_result",
          "data": {
            "text/plain": [
              "6.330893673259695"
            ]
          },
          "metadata": {},
          "execution_count": 13
        }
      ]
    },
    {
      "cell_type": "markdown",
      "source": [
        "### 모델 평가\n",
        "모델이 좋은지, 신뢰할 수 있는지 파악 => 개선할 점 찾기, 성능 비교로 더 나은 모델 선택"
      ],
      "metadata": {
        "id": "-8YOG7X7JPzN"
      }
    },
    {
      "cell_type": "code",
      "source": [
        "reg.score(X_train, y_train), reg.score(X_test, y_test)"
      ],
      "metadata": {
        "colab": {
          "base_uri": "https://localhost:8080/"
        },
        "id": "WR3W9XgaJSYW",
        "outputId": "f18d9268-ee11-46fb-addd-e8ab6d013658"
      },
      "execution_count": 14,
      "outputs": [
        {
          "output_type": "execute_result",
          "data": {
            "text/plain": [
              "(0.9702403718774308, 0.99230624420063)"
            ]
          },
          "metadata": {},
          "execution_count": 14
        }
      ]
    },
    {
      "cell_type": "markdown",
      "source": [
        "#### 회귀 모델의 모델 평가\n",
        "MAE => 실제 값과 예측 값 차이의 절대값 평균\n",
        "MSE => 실제 값과 예측 값 차이의 제곱 평균(이상값에 민감하다는 단점, 단위를벗 어나 버릴 수 있는 문제)\n",
        "RMSE => MSE에 루트(1보다 작은 값은 너무 작아지고, 1보다 큰 값은 너무 커지는 문제 상쇄, 실제 단위와 통일)\n",
        ">0에 가까울 수록 좋은 모델임\n",
        "\n",
        "R-Square(R2) : 결정계수\n",
        "1 - SSE/SST = 1 - (실제 값 - 예측 값)^2 / (실제 값 - 평균 값)^2\n",
        "예측 값과 평균 값이 비슷하다면 1 - 1 = 0 값이 됨\n",
        "에측 값이 실제 값과 비슷하다면 1 - 0 = 1 값이 됨\n",
        "> 1에 가까울수록 좋고, 0에 가까울 수록 좋지 않음\n",
        "\n",
        "error(잔차) : 실제 값 - 예측 값\n",
        "reg : 예측 값 - 평균 값\n",
        "total : 실제 값 - 평균 값 = error + reg\n",
        "\n",
        "잔차의 제곱 합 : Sum Square error = SSE\n",
        "reg의 제곱 합 : Sum Square reg = SSR\n",
        "total의 제곱 합 : Sum Suare total = SST"
      ],
      "metadata": {
        "id": "VUg54JWiJVvt"
      }
    },
    {
      "cell_type": "markdown",
      "source": [
        "#### 다양한 평가 지표(회귀 모델)"
      ],
      "metadata": {
        "id": "mo7aOrE4LlKF"
      }
    },
    {
      "cell_type": "code",
      "source": [
        "from sklearn.metrics import mean_absolute_error\n",
        "mean_absolute_error(y_test, y_pred) # 실제값, 예측값의 MAE"
      ],
      "metadata": {
        "colab": {
          "base_uri": "https://localhost:8080/"
        },
        "id": "cggLojljOEPM",
        "outputId": "1f45e759-f325-44b7-f781-b6fa39defe59"
      },
      "execution_count": 15,
      "outputs": [
        {
          "output_type": "execute_result",
          "data": {
            "text/plain": [
              "0.9861010546626527"
            ]
          },
          "metadata": {},
          "execution_count": 15
        }
      ]
    },
    {
      "cell_type": "code",
      "source": [
        "from sklearn.metrics import mean_squared_error\n",
        "mean_squared_error(y_test, y_pred) # 실제값, 예측값의 MSE"
      ],
      "metadata": {
        "colab": {
          "base_uri": "https://localhost:8080/"
        },
        "id": "36B_TUvAOouz",
        "outputId": "60a8e0ad-5b24-4447-afc7-08febf9730af"
      },
      "execution_count": 17,
      "outputs": [
        {
          "output_type": "execute_result",
          "data": {
            "text/plain": [
              "2.0157640194349487"
            ]
          },
          "metadata": {},
          "execution_count": 17
        }
      ]
    },
    {
      "cell_type": "code",
      "source": [
        "from sklearn.metrics import mean_squared_error\n",
        "mean_squared_error(y_test, y_pred, squared=False) # 실제값, 예측값의 RMSE"
      ],
      "metadata": {
        "colab": {
          "base_uri": "https://localhost:8080/"
        },
        "id": "JOIYinqfOtTz",
        "outputId": "7ff539e9-55fa-47e6-f091-1ea9af0e10e2"
      },
      "execution_count": 18,
      "outputs": [
        {
          "output_type": "execute_result",
          "data": {
            "text/plain": [
              "1.4197760455208943"
            ]
          },
          "metadata": {},
          "execution_count": 18
        }
      ]
    },
    {
      "cell_type": "code",
      "source": [
        "from sklearn.metrics import r2_score\n",
        "r2_score(y_test, y_pred) # 실제값, 예측값의 R2"
      ],
      "metadata": {
        "colab": {
          "base_uri": "https://localhost:8080/"
        },
        "id": "601aEX91Oyfk",
        "outputId": "b998ca1a-7b32-4a75-9164-5d9641ea1ed8"
      },
      "execution_count": 21,
      "outputs": [
        {
          "output_type": "execute_result",
          "data": {
            "text/plain": [
              "0.99230624420063"
            ]
          },
          "metadata": {},
          "execution_count": 21
        }
      ]
    },
    {
      "cell_type": "markdown",
      "source": [
        "Regression의 모델 평가 점수는 R2 점수로 매개진다는 것을 확인할 수 있음"
      ],
      "metadata": {
        "id": "d6xQs_tzO3Li"
      }
    },
    {
      "cell_type": "markdown",
      "source": [
        "# 다항 선형 회귀(Polynomial Linear Regression) : y = m1x^1 + m2x^2 + m3x^3 ... + b\n",
        "원래 있던 피쳐를 확장하는 개념 -> 데이터를 더 잘 표현하기 위함(ex) 1차 직선 -> 2차 곡선)\n",
        "구글 검색 : polynomial regression data fit => 해당 사이트에서 비쥬얼 적으로 그래프 조작하면서 확인 가능\n",
        "\n",
        "과소적합 : 데이터를 잘 표현하지 못하는 상황 => 개선 여지\n",
        "과대적합 : 훈련 데이터는 매우 잘 표현하지만, 모델이 너무 훈련 데이터에만 적합하여 테스트 데이터 및 실제 데이터는 잘 표현하지 못합"
      ],
      "metadata": {
        "id": "VLkEQ908TklK"
      }
    },
    {
      "cell_type": "code",
      "source": [],
      "metadata": {
        "id": "g3_Ucc-zUJPa"
      },
      "execution_count": null,
      "outputs": []
    }
  ]
}