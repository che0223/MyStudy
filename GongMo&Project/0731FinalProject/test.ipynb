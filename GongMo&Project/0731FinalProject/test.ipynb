{
 "cells": [
  {
   "cell_type": "code",
   "execution_count": 18,
   "metadata": {},
   "outputs": [],
   "source": [
    "from selenium import webdriver\n",
    "\n",
    "def set_referer_header(driver, referer_url):\n",
    "    driver.execute_cdp_cmd(\n",
    "        \"Network.setExtraHTTPHeaders\",\n",
    "        {\n",
    "            \"headers\": {\n",
    "                \"Referer\": referer_url\n",
    "            }\n",
    "        }\n",
    "    )\n",
    "\n",
    "# Referer 변경하고 사이트 접속\n",
    "referer_url = \"https://example.com\"  # 원하는 Referer URL로 변경하세요\n",
    "chrome_options = webdriver.ChromeOptions()\n",
    "chrome_options.add_argument(\"--user-agent=Yeti/1.0 (+http://help.naver.com/robots/)\")\n",
    "driver = webdriver.Chrome(options=chrome_options)\n",
    "set_referer_header(driver, referer_url)\n",
    "\n",
    "\n",
    "driver.get('https://www.naver.com')\n"
   ]
  },
  {
   "cell_type": "code",
   "execution_count": 11,
   "metadata": {},
   "outputs": [],
   "source": [
    "from selenium import webdriver \n",
    " \n",
    "driver = webdriver.Chrome() \n",
    " \n",
    "# Initializing a list with two Useragents \n",
    "useragentarray = [ \n",
    "\t\"Mozilla/5.0 (Windows NT 10.0; Win64; x64) AppleWebKit/537.36 (KHTML, like Gecko) Chrome/108.0.0.0 Safari/537.36\", \n",
    "\t\"Mozilla/5.0 (Windows NT 10.0; Win64; x64) AppleWebKit/537.36 (KHTML, like Gecko) Chrome/107.0.0.0 Safari/537.36\", \n",
    "] \n",
    "for i in range(len(useragentarray)): \n",
    "\tdriver.execute_cdp_cmd(\"Network.setUserAgentOverride\", {\"userAgent\": useragentarray[i]}) \n",
    "\tdriver.get(\"https://www.httpbin.org/headers\") \n",
    "driver.close()"
   ]
  }
 ],
 "metadata": {
  "kernelspec": {
   "display_name": "crawler",
   "language": "python",
   "name": "python3"
  },
  "language_info": {
   "codemirror_mode": {
    "name": "ipython",
    "version": 3
   },
   "file_extension": ".py",
   "mimetype": "text/x-python",
   "name": "python",
   "nbconvert_exporter": "python",
   "pygments_lexer": "ipython3",
   "version": "3.8.17"
  },
  "orig_nbformat": 4
 },
 "nbformat": 4,
 "nbformat_minor": 2
}
